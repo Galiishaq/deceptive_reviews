{
 "cells": [
  {
   "cell_type": "code",
   "execution_count": null,
   "id": "c4c69310",
   "metadata": {},
   "outputs": [],
   "source": [
    "import sys\n",
    "import os\n",
    "\n",
    "project_dir = os.getcwd().split(\"notebooks\")[0]\n",
    "sys.path.append(project_dir)\n"
   ]
  },
  {
   "cell_type": "markdown",
   "id": "f74959e6",
   "metadata": {},
   "source": [
    "### test load_reviews"
   ]
  },
  {
   "cell_type": "code",
   "execution_count": 2,
   "id": "4927a2fc",
   "metadata": {},
   "outputs": [],
   "source": [
    "from src.handle_data import load_reviews"
   ]
  },
  {
   "cell_type": "code",
   "execution_count": 3,
   "id": "07e58421",
   "metadata": {},
   "outputs": [],
   "source": [
    "df_all = load_reviews(\"../data\", load_all=True)\n",
    "n_df_all = 1600\n",
    "assert len(df_all) == n_df_all"
   ]
  },
  {
   "cell_type": "code",
   "execution_count": 4,
   "id": "f11c3041",
   "metadata": {},
   "outputs": [],
   "source": [
    "df_train = load_reviews(\"../data\")\n",
    "n_df_train = len(df_train)\n",
    "assert n_df_train == (0.8 * n_df_all)"
   ]
  },
  {
   "cell_type": "code",
   "execution_count": 5,
   "id": "c7275529",
   "metadata": {},
   "outputs": [],
   "source": [
    "df_eval = load_reviews(\"../data\", eval=True)\n",
    "assert len(df_eval) == n_df_all - n_df_train"
   ]
  }
 ],
 "metadata": {
  "kernelspec": {
   "display_name": ".venv",
   "language": "python",
   "name": "python3"
  },
  "language_info": {
   "codemirror_mode": {
    "name": "ipython",
    "version": 3
   },
   "file_extension": ".py",
   "mimetype": "text/x-python",
   "name": "python",
   "nbconvert_exporter": "python",
   "pygments_lexer": "ipython3",
   "version": "3.13.1"
  }
 },
 "nbformat": 4,
 "nbformat_minor": 5
}
