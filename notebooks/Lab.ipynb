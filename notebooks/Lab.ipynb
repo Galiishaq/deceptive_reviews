{
 "cells": [
  {
   "cell_type": "code",
   "execution_count": 1,
   "id": "c4c69310",
   "metadata": {},
   "outputs": [],
   "source": [
    "import sys\n",
    "import os\n",
    "\n",
    "project_dir = os.getcwd().split(\"notebooks\")[0]\n",
    "sys.path.append(project_dir)\n"
   ]
  },
  {
   "cell_type": "markdown",
   "id": "f74959e6",
   "metadata": {},
   "source": [
    "### test load_reviews"
   ]
  },
  {
   "cell_type": "code",
   "execution_count": 2,
   "id": "4927a2fc",
   "metadata": {},
   "outputs": [],
   "source": [
    "from src.handle_data import load_reviews"
   ]
  },
  {
   "cell_type": "code",
   "execution_count": 3,
   "id": "07e58421",
   "metadata": {},
   "outputs": [],
   "source": [
    "df_all = load_reviews(\"../data\", load_all=True)\n",
    "n_df_all = 1600\n",
    "assert len(df_all) == n_df_all"
   ]
  },
  {
   "cell_type": "code",
   "execution_count": 4,
   "id": "f11c3041",
   "metadata": {},
   "outputs": [],
   "source": [
    "df_train = load_reviews(\"../data\")\n",
    "n_df_train = len(df_train)\n",
    "assert n_df_train == (0.8 * n_df_all)"
   ]
  },
  {
   "cell_type": "code",
   "execution_count": 5,
   "id": "c7275529",
   "metadata": {},
   "outputs": [],
   "source": [
    "df_eval = load_reviews(\"../data\", eval=True)\n",
    "assert len(df_eval) == n_df_all - n_df_train"
   ]
  },
  {
   "cell_type": "markdown",
   "id": "25e9bfec",
   "metadata": {},
   "source": [
    "### Test Classifier"
   ]
  },
  {
   "cell_type": "code",
   "execution_count": 6,
   "id": "47e13a83",
   "metadata": {},
   "outputs": [],
   "source": [
    "from src.classifier import TextNaiveBayes\n",
    "from src.preprocessing import vectorize_data, prepare_dataset\n",
    "from sklearn.model_selection import train_test_split\n",
    "\n",
    "classifier = TextNaiveBayes(smoothing=2.0)\n",
    "X, y, vectorizer = vectorize_data(df_train, max_feats=3000, ngram=2)\n",
    "\n",
    "X_train, X_test, y_train, y_test = train_test_split(X, y, test_size=0.2, random_state=123)\n",
    "\n",
    "classifier.train(X_train, y_train)"
   ]
  },
  {
   "cell_type": "code",
   "execution_count": 7,
   "id": "34757361",
   "metadata": {},
   "outputs": [
    {
     "name": "stdout",
     "output_type": "stream",
     "text": [
      "Train accuracy: 89.1%\n"
     ]
    }
   ],
   "source": [
    "accuracy, report = classifier.evaluate(X_test, y_test)\n",
    "print(f\"Train accuracy: {accuracy * 100:.1f}%\")"
   ]
  },
  {
   "cell_type": "code",
   "execution_count": 8,
   "id": "0c4701cd",
   "metadata": {},
   "outputs": [
    {
     "name": "stdout",
     "output_type": "stream",
     "text": [
      "train report\n",
      "              precision    recall  f1-score   support\n",
      "\n",
      "           0       0.93      0.84      0.88       127\n",
      "           1       0.86      0.94      0.90       129\n",
      "\n",
      "    accuracy                           0.89       256\n",
      "   macro avg       0.89      0.89      0.89       256\n",
      "weighted avg       0.89      0.89      0.89       256\n",
      "\n"
     ]
    }
   ],
   "source": [
    "print(\"train report\")\n",
    "print(report)"
   ]
  },
  {
   "cell_type": "markdown",
   "id": "3d282fd3",
   "metadata": {},
   "source": [
    "# Evaluating the model with the eval dataset"
   ]
  },
  {
   "cell_type": "code",
   "execution_count": 9,
   "id": "302e1c35",
   "metadata": {},
   "outputs": [],
   "source": [
    "X_eval, y_eval= prepare_dataset(df_eval)\n",
    "X_eval_vec = vectorizer.transform(X_eval)\n",
    "acc, report = classifier.evaluate(X_eval_vec, y_eval)"
   ]
  },
  {
   "cell_type": "code",
   "execution_count": 10,
   "id": "e0a5d50f",
   "metadata": {},
   "outputs": [
    {
     "name": "stdout",
     "output_type": "stream",
     "text": [
      "Train accuracy: 87.2%\n"
     ]
    }
   ],
   "source": [
    "print(f\"Train accuracy: {acc * 100:.1f}%\")"
   ]
  },
  {
   "cell_type": "code",
   "execution_count": 11,
   "id": "84ad2e14",
   "metadata": {},
   "outputs": [
    {
     "name": "stdout",
     "output_type": "stream",
     "text": [
      "train report\n",
      "              precision    recall  f1-score   support\n",
      "\n",
      "           0       0.88      0.86      0.87       160\n",
      "           1       0.87      0.88      0.87       160\n",
      "\n",
      "    accuracy                           0.87       320\n",
      "   macro avg       0.87      0.87      0.87       320\n",
      "weighted avg       0.87      0.87      0.87       320\n",
      "\n"
     ]
    }
   ],
   "source": [
    "print(\"train report\")\n",
    "print(report)"
   ]
  }
 ],
 "metadata": {
  "kernelspec": {
   "display_name": ".venv",
   "language": "python",
   "name": "python3"
  },
  "language_info": {
   "codemirror_mode": {
    "name": "ipython",
    "version": 3
   },
   "file_extension": ".py",
   "mimetype": "text/x-python",
   "name": "python",
   "nbconvert_exporter": "python",
   "pygments_lexer": "ipython3",
   "version": "3.13.1"
  }
 },
 "nbformat": 4,
 "nbformat_minor": 5
}
